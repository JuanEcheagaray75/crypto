{
 "cells": [
  {
   "cell_type": "markdown",
   "metadata": {},
   "source": [
    "# Actividad 2.1. Cifrado César, sustitución monoalfabética y Vigenère\n",
    "\n",
    "- Juan Pablo Echeagaray González\n",
    "- A00830646\n",
    "- Análisis de Criptografía y Seguridad\n",
    "- Profesores:\n",
    "  - Dr. Alberto F. Martínez\n",
    "  - Dr.-Ing. Jonathan Montalvo-Urquizo\n",
    "- 24 de mayo del 2022"
   ]
  },
  {
   "cell_type": "markdown",
   "metadata": {},
   "source": [
    "## Dependencias"
   ]
  },
  {
   "cell_type": "code",
   "execution_count": 1,
   "metadata": {},
   "outputs": [],
   "source": [
    "from string import ascii_letters, digits\n",
    "from difflib import SequenceMatcher\n",
    "from random import sample, seed\n"
   ]
  },
  {
   "cell_type": "markdown",
   "metadata": {},
   "source": [
    "## Cifrado César"
   ]
  },
  {
   "cell_type": "markdown",
   "metadata": {},
   "source": [
    "### Encriptado César"
   ]
  },
  {
   "cell_type": "code",
   "execution_count": 2,
   "metadata": {},
   "outputs": [],
   "source": [
    "def encrypt_caesar(message: str, offset: int):\n",
    "\n",
    "    result = ''\n",
    "    for char in message:\n",
    "        # Check if its uppercase\n",
    "        if char.isupper():\n",
    "            result += chr((ord(char) + offset - 65) % 26 + 65)\n",
    "        else:\n",
    "            result += chr((ord(char) + offset - 97) % 26 + 97)\n",
    "\n",
    "    return result\n"
   ]
  },
  {
   "cell_type": "markdown",
   "metadata": {},
   "source": [
    "### Rompiendo cifrado César"
   ]
  },
  {
   "cell_type": "code",
   "execution_count": 3,
   "metadata": {},
   "outputs": [],
   "source": [
    "def break_caesar(message: str, known_key: int = None):\n",
    "    alphabet = ascii_letters[len(ascii_letters) // 2:]\n",
    "    res = []\n",
    "\n",
    "    if known_key is None:\n",
    "        search_space = range(len(alphabet))\n",
    "    else:\n",
    "        search_space = [known_key]\n",
    "    \n",
    "    for key in search_space:\n",
    "        translated = ''\n",
    "        for char in message:\n",
    "            if char in alphabet:\n",
    "                num = alphabet.find(char)\n",
    "                num -= key\n",
    "                if num < 0:\n",
    "                    num += len(alphabet)\n",
    "                translated += alphabet[num]\n",
    "            else:\n",
    "                translated += char\n",
    "        \n",
    "        res.append([key, translated])\n",
    "        # Map list of lists to dict\n",
    "        out = dict(res)\n",
    "\n",
    "    return out\n"
   ]
  },
  {
   "cell_type": "markdown",
   "metadata": {},
   "source": [
    "### Probando cifrado y desencriptado César"
   ]
  },
  {
   "cell_type": "code",
   "execution_count": 4,
   "metadata": {},
   "outputs": [],
   "source": [
    "def caesar_encryption(plain_text: str, mode: str):\n",
    "\n",
    "    shift = 3\n",
    "    ciphert_text = encrypt_caesar(plain_text, shift)\n",
    "    if mode == 'known_key':\n",
    "        result_2 = break_caesar(ciphert_text, shift)\n",
    "        return f'''\n",
    "        Plain text: {plain_text}\n",
    "        Shift: {shift}\n",
    "        Cipher text: {ciphert_text}\n",
    "        Known-key\n",
    "        Known-key-result: {result_2}'''\n",
    "\n",
    "    elif mode == 'brute-force':\n",
    "        result_1 = break_caesar(ciphert_text)\n",
    "        return f'''\n",
    "        Plain text: {plain_text}\n",
    "        Shift: {shift}\n",
    "        Cipher text: {ciphert_text}\n",
    "        Brute Force\n",
    "        Result: {result_1}'''\n",
    "        \n",
    "    else:\n",
    "        print('Invalid mode')\n",
    "    "
   ]
  },
  {
   "cell_type": "code",
   "execution_count": 5,
   "metadata": {},
   "outputs": [],
   "source": [
    "plain_text = 'PERO MIRA COMO BEBEN LOS PECES EN EL RIO'"
   ]
  },
  {
   "cell_type": "code",
   "execution_count": 6,
   "metadata": {},
   "outputs": [
    {
     "name": "stdout",
     "output_type": "stream",
     "text": [
      "38.8 µs ± 3.96 µs per loop (mean ± std. dev. of 7 runs, 5,000 loops each)\n"
     ]
    }
   ],
   "source": [
    "%%timeit -n 5000\n",
    "caesar_encryption(plain_text, 'known_key')\n"
   ]
  },
  {
   "cell_type": "code",
   "execution_count": 7,
   "metadata": {},
   "outputs": [
    {
     "name": "stdout",
     "output_type": "stream",
     "text": [
      "549 µs ± 70.4 µs per loop (mean ± std. dev. of 7 runs, 5,000 loops each)\n"
     ]
    }
   ],
   "source": [
    "%%timeit -n 5000\n",
    "caesar_encryption(plain_text, 'brute-force')\n"
   ]
  },
  {
   "cell_type": "markdown",
   "metadata": {},
   "source": [
    "## Cifrado monoalfabético"
   ]
  },
  {
   "cell_type": "markdown",
   "metadata": {},
   "source": [
    "### Generación de alfabeto aleatorio"
   ]
  },
  {
   "cell_type": "code",
   "execution_count": 8,
   "metadata": {},
   "outputs": [],
   "source": [
    "def random_alphabet_table() -> str:\n",
    "    seed(1)\n",
    "    character_pool = ascii_letters[len(ascii_letters) // 2:]\n",
    "    orig = list(character_pool)\n",
    "    shuffled = sample(orig, len(orig))\n",
    "    key = dict(zip(orig, shuffled))\n",
    "\n",
    "    return key\n"
   ]
  },
  {
   "cell_type": "markdown",
   "metadata": {},
   "source": [
    "### Encriptado"
   ]
  },
  {
   "cell_type": "code",
   "execution_count": 9,
   "metadata": {},
   "outputs": [],
   "source": [
    "def encrypt_message(message: str, key: dict) -> str:\n",
    "    encrypted = []\n",
    "    message = message.upper()\n",
    "    for char in message:\n",
    "        if char in key:\n",
    "            encrypted += key[char]\n",
    "        else:\n",
    "            encrypted += char\n",
    "\n",
    "    return ''.join(encrypted)\n"
   ]
  },
  {
   "cell_type": "markdown",
   "metadata": {},
   "source": [
    "### Inverso Alfabeto"
   ]
  },
  {
   "cell_type": "code",
   "execution_count": 10,
   "metadata": {},
   "outputs": [],
   "source": [
    "def inv_alphabet(key: dict) -> dict:\n",
    "\n",
    "    return {v: k for k, v in key.items()}\n"
   ]
  },
  {
   "cell_type": "markdown",
   "metadata": {},
   "source": [
    "### A desencriptar"
   ]
  },
  {
   "cell_type": "code",
   "execution_count": 11,
   "metadata": {},
   "outputs": [],
   "source": [
    "def decrypt_message(message: str, key: dict):\n",
    "\n",
    "    return encrypt_message(message, inv_alphabet(key))\n",
    "    "
   ]
  },
  {
   "cell_type": "markdown",
   "metadata": {},
   "source": [
    "### Prueba de monoencriptado"
   ]
  },
  {
   "cell_type": "code",
   "execution_count": 20,
   "metadata": {},
   "outputs": [],
   "source": [
    "def mono_encryption() -> str:\n",
    "\n",
    "    file_path = '../../homeworks/ciphers/text2.txt'\n",
    "\n",
    "    with open(file_path, 'r') as f:\n",
    "        message = f.readlines()\n",
    "\n",
    "    message = ''.join(message)\n",
    "\n",
    "    # Encryption\n",
    "    cipher = random_alphabet_table()\n",
    "    encrypted = encrypt_message(message, cipher)\n",
    "    decrypted = decrypt_message(encrypted, cipher)\n",
    "\n",
    "    return encrypted\n"
   ]
  },
  {
   "cell_type": "code",
   "execution_count": 38,
   "metadata": {},
   "outputs": [
    {
     "name": "stdout",
     "output_type": "stream",
     "text": [
      "Summary\n",
      "    Frequency table: {'D': 4395, 'F': 3448, 'R': 3295, 'E': 2784, 'M': 2565, 'Q': 2412, 'Z': 2184, 'U': 2037, 'T': 1958, 'H': 1628, 'B': 1341, 'Y': 1253, 'I': 1088, 'K': 1017, 'A': 913, 'O': 885, 'C': 748, 'S': 744, 'P': 619, 'V': 547, 'J': 517, 'W': 377, 'G': 115, 'X': 68, 'L': 37, 'N': 26}\n",
      "    Length of the custom table: 21\n",
      "    Cipher text (1st 100 chars): ECCRTIMQO FR EHH VQRKQ HEKZ RP EWMEFMRQ, FUDTD MZ QR KEY E SDD ZURBHI SD ESHD FR PHY.\n",
      "MFZ KMQOZ ETD \n"
     ]
    },
    {
     "data": {
      "text/plain": [
       "'ACCORDING TO ALL KNOWN LAWS OF AVIATION, THERE IS NO WAY A BEE SHOULD BE ABLE TO FLY.\\nITS WINGS ARE '"
      ]
     },
     "execution_count": 38,
     "metadata": {},
     "output_type": "execute_result"
    }
   ],
   "source": [
    "def mono_frequency_analysis(cipher_text: str, language: str) -> str:\n",
    "    \n",
    "    frequencies = {'eng': 'ETAOINSHRDLCUMWFGYPBVKJXQZ', \n",
    "                    'spa': 'EAOSNRILDTUCMPBHQYVGFJZXKW', \n",
    "                    'fra': 'EASTIRNULODMCPVHGFBQJXZYKW'}\n",
    "\n",
    "    symbols = [' ', ',', '.', '!', '?', ':', ';', '-', '\"', \"'\", '\\n', '\\t', \n",
    "                '1', '2', '3', '4', '5', '6', '7', '8', '9', '0']\n",
    "\n",
    "    if language not in frequencies:\n",
    "        print('Invalid language')\n",
    "        return\n",
    "    \n",
    "    # May or may not be used\n",
    "    lang_frequencies = frequencies[language]\n",
    "\n",
    "    # Calculate the frequency of each letter in the ciphertext\n",
    "    freq_table = {}\n",
    "    for char in cipher_text:\n",
    "        if char in freq_table:\n",
    "            freq_table[char] += 1\n",
    "        else:\n",
    "            freq_table[char] = 1\n",
    "    \n",
    "    freq_table = dict(sorted(freq_table.items(), key=lambda x: x[1], reverse=True))\n",
    "    # Drop symbols from the frequency table\n",
    "    for symbol in symbols:\n",
    "        if symbol in freq_table:\n",
    "            freq_table.pop(symbol)\n",
    "\n",
    "\n",
    "    # Replace each letter in the cipher text with the most frequent letter in the language\n",
    "    # decrypted = ''\n",
    "    # for char in cipher_text:\n",
    "    #     if char in freq_table:\n",
    "    #         decrypted += lang_frequencies[list(freq_table).index(char)]\n",
    "    #     else:\n",
    "    #         decrypted += char\n",
    "    # Too optimistic approach, needs some human work\n",
    "\n",
    "    \"\"\"\n",
    "    Defined after checking the attempts\n",
    "    F -> T\n",
    "    U -> H\n",
    "    D -> E\n",
    "    T -> R\n",
    "    M -> I\n",
    "    Z -> S\n",
    "    Q -> N\n",
    "    M -> I\n",
    "    Z -> S\n",
    "    R -> O\n",
    "    V -> K\n",
    "    P -> F\n",
    "    K -> W\n",
    "    E -> A\n",
    "    H -> L\n",
    "    O -> G\n",
    "    W -> V\n",
    "    S -> B\n",
    "    I -> D\n",
    "    B -> U\n",
    "    A -> M\n",
    "    J -> P\n",
    "    L -> X\n",
    "    \"\"\"\n",
    "\n",
    "    # Defined after iterably checking the attempts\n",
    "    custom_translations = {'F': 'T', 'U': 'H', 'D': 'E', 'T': 'R', 'M': 'I',\n",
    "                            'Z': 'S', 'Q': 'N', 'M': 'I', 'Z': 'S', 'R': 'O',\n",
    "                            'V': 'K', 'P': 'F', 'K': 'W', 'E': 'A', 'H': 'L',\n",
    "                            'O': 'G', 'W': 'V', 'S': 'B', 'I': 'D', 'B': 'U',\n",
    "                            'A': 'M', 'J': 'P', 'L': 'X'}\n",
    "\n",
    "    decrypted = ''\n",
    "    for char in cipher_text:\n",
    "        if char in custom_translations:\n",
    "            decrypted += custom_translations[char]\n",
    "        else:\n",
    "            decrypted += char\n",
    "\n",
    "    print(f'''Summary\n",
    "    Frequency table: {freq_table}\n",
    "    Length of the custom table: {len(custom_translations)}\n",
    "    Cipher text (1st 100 chars): {cipher_text[:100]}''')\n",
    "    return decrypted\n",
    "\n",
    "\n",
    "mono_frequency_analysis(mono_encryption(), 'eng')[:100]\n"
   ]
  },
  {
   "cell_type": "markdown",
   "metadata": {},
   "source": [
    "## Cifrado Vigenère"
   ]
  },
  {
   "cell_type": "code",
   "execution_count": 30,
   "metadata": {},
   "outputs": [],
   "source": [
    "def transform_plain(plain_text: str, key_word: str) -> str:\n",
    "    \"\"\"Transform plain text with a keyword using a substitution\n",
    "\n",
    "    Args:\n",
    "        plain_text (str): Plain text to be transformed\n",
    "        key_word (str): Word to map plain text with\n",
    "\n",
    "    Returns:\n",
    "        str: Mapped text\n",
    "    \"\"\"    \n",
    "\n",
    "    key = list(key_word)\n",
    "\n",
    "    if len(plain_text) == len(key):\n",
    "        mapped_text = ''.join(key)\n",
    "        return mapped_text\n",
    "\n",
    "    else:\n",
    "\n",
    "        diff = len(plain_text) - len(key)\n",
    "        if diff > 0:\n",
    "            for i in range(len(plain_text) - len(key)):\n",
    "                key.append(key[i % len(key)])\n",
    "        else:\n",
    "            print('Keyword is longer than plain text')\n",
    "            return\n",
    "\n",
    "    mapped_text = ''.join(key)\n",
    "\n",
    "    return mapped_text\n"
   ]
  },
  {
   "cell_type": "code",
   "execution_count": 41,
   "metadata": {},
   "outputs": [
    {
     "data": {
      "text/plain": [
       "'KC ZX GFEZCDHVKI VE IJ DSL WI CFW NUFNMEJ'"
      ]
     },
     "execution_count": 41,
     "metadata": {},
     "output_type": "execute_result"
    }
   ],
   "source": [
    "def encrypt_vigenere(plain_text: str, key: str) -> str:\n",
    "\n",
    "    # Only working with uppercase letters\n",
    "    alphabet = ascii_letters[len(ascii_letters) // 2:]\n",
    "    cipher_text = []\n",
    "    key_index = 0\n",
    "\n",
    "    for char in plain_text:\n",
    "        if char in alphabet:\n",
    "            n = alphabet.find(char) + alphabet.find(key[key_index % len(key)])\n",
    "            mod = n % len(alphabet)\n",
    "            cipher_text.append(alphabet[mod])\n",
    "            key_index += 1\n",
    "            \n",
    "        else:\n",
    "            cipher_text.append(char)\n",
    "            continue\n",
    "    \n",
    "    return ''.join(cipher_text)\n"
   ]
  },
  {
   "cell_type": "code",
   "execution_count": 46,
   "metadata": {},
   "outputs": [],
   "source": [
    "def decrypt_vigenere(cipher_text: str, key_word: str) -> str:\n",
    "    \n",
    "    alphabet = ascii_letters[len(ascii_letters) // 2:]\n",
    "    plain_text = []\n",
    "    key_index = 0\n",
    "\n",
    "    for char in cipher_text:\n",
    "        if char in alphabet:\n",
    "            n = alphabet.find(char) - alphabet.find(key_word[key_index % len(key_word)])\n",
    "            mod = n % len(alphabet)\n",
    "            plain_text.append(alphabet[mod])\n",
    "            key_index += 1\n",
    "\n",
    "        else:\n",
    "            plain_text.append(char)\n",
    "            continue\n",
    "\n",
    "    return ''.join(plain_text)\n",
    "    "
   ]
  },
  {
   "cell_type": "code",
   "execution_count": 47,
   "metadata": {},
   "outputs": [
    {
     "name": "stdout",
     "output_type": "stream",
     "text": [
      "Vigenere Cipher\n",
      "    Text: YO ME CONVERTIRE EN EL REY DE LOS PIRATAS\n",
      "    Key: MONTERREYMONTERREYMONTERREYMONTERREYMONTE\n",
      "    Encrypted: KC ZX GFEZCDHVKI VE IJ DSL WI CFW NUFNMEJ\n",
      "    Decrypted: YO ME CONVERTIRE EN EL REY DE LOS PIRATAS\n"
     ]
    }
   ],
   "source": [
    "def vigenere_test():\n",
    "    text = 'YO ME CONVERTIRE EN EL REY DE LOS PIRATAS'\n",
    "    key = 'MONTERREY'\n",
    "    key_word = transform_plain(text, key)\n",
    "    encrypted = encrypt_vigenere(text, key_word)\n",
    "    decrypted = decrypt_vigenere(encrypted, key_word)\n",
    "\n",
    "    print(f'''Vigenere Cipher\n",
    "    Text: {text}\n",
    "    Key: {key_word}\n",
    "    Encrypted: {encrypted}\n",
    "    Decrypted: {decrypted}''')\n",
    "\n",
    "\n",
    "vigenere_test()\n"
   ]
  }
 ],
 "metadata": {
  "interpreter": {
   "hash": "916dbcbb3f70747c44a77c7bcd40155683ae19c65e1c03b4aa3499c5328201f1"
  },
  "kernelspec": {
   "display_name": "Python 3.8.10 64-bit",
   "language": "python",
   "name": "python3"
  },
  "language_info": {
   "codemirror_mode": {
    "name": "ipython",
    "version": 3
   },
   "file_extension": ".py",
   "mimetype": "text/x-python",
   "name": "python",
   "nbconvert_exporter": "python",
   "pygments_lexer": "ipython3",
   "version": "3.8.10"
  },
  "orig_nbformat": 4
 },
 "nbformat": 4,
 "nbformat_minor": 2
}
