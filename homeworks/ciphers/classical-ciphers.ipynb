{
 "cells": [
  {
   "cell_type": "markdown",
   "metadata": {},
   "source": [
    "# Actividad 2.1. Cifrado César, sustitución monoalfabética y Vigenère\n",
    "\n",
    "- Juan Pablo Echeagaray González\n",
    "- A00830646\n",
    "- Análisis de Criptografía y Seguridad\n",
    "- Profesores:\n",
    "  - Dr. Alberto F. Martínez\n",
    "  - Dr.-Ing. Jonathan Montalvo-Urquizo\n",
    "- 24 de mayo del 2022"
   ]
  },
  {
   "cell_type": "markdown",
   "metadata": {},
   "source": [
    "## Dependencias"
   ]
  },
  {
   "cell_type": "code",
   "execution_count": null,
   "metadata": {},
   "outputs": [],
   "source": [
    "from string import ascii_letters, digits\n",
    "from random import sample\n"
   ]
  },
  {
   "cell_type": "markdown",
   "metadata": {},
   "source": [
    "## Cifrado César"
   ]
  },
  {
   "cell_type": "markdown",
   "metadata": {},
   "source": [
    "### Encriptado César"
   ]
  },
  {
   "cell_type": "code",
   "execution_count": null,
   "metadata": {},
   "outputs": [],
   "source": [
    "def encrypt_caesar(message: str, offset: int):\n",
    "\n",
    "    result = ''\n",
    "    for char in message:\n",
    "        # Check if its uppercase\n",
    "        if char.isupper():\n",
    "            result += chr((ord(char) + offset - 65) % 26 + 65)\n",
    "        else:\n",
    "            result += chr((ord(char) + offset - 97) % 26 + 97)\n",
    "\n",
    "    return result\n"
   ]
  },
  {
   "cell_type": "markdown",
   "metadata": {},
   "source": [
    "### Rompiendo cifrado César"
   ]
  },
  {
   "cell_type": "code",
   "execution_count": null,
   "metadata": {},
   "outputs": [],
   "source": [
    "def break_caesar(message: str, known_key: int = None):\n",
    "    alphabet = ascii_letters[len(ascii_letters) // 2:]\n",
    "    res = []\n",
    "\n",
    "    if known_key is None:\n",
    "        search_space = range(len(alphabet))\n",
    "    else:\n",
    "        search_space = [known_key]\n",
    "    \n",
    "    for key in search_space:\n",
    "        translated = ''\n",
    "        for char in message:\n",
    "            if char in alphabet:\n",
    "                num = alphabet.find(char)\n",
    "                num -= key\n",
    "                if num < 0:\n",
    "                    num += len(alphabet)\n",
    "                translated += alphabet[num]\n",
    "            else:\n",
    "                translated += char\n",
    "        \n",
    "        res.append([key, translated])\n",
    "        # Map list of lists to dict\n",
    "        out = dict(res)\n",
    "\n",
    "    return out\n"
   ]
  },
  {
   "cell_type": "markdown",
   "metadata": {},
   "source": [
    "### Probando cifrado y desencriptado César"
   ]
  },
  {
   "cell_type": "code",
   "execution_count": null,
   "metadata": {},
   "outputs": [],
   "source": [
    "def caesar_encryption(plain_text: str, mode: str):\n",
    "\n",
    "    shift = 3\n",
    "    ciphert_text = encrypt_caesar(plain_text, shift)\n",
    "    if mode == 'known_key':\n",
    "        result_2 = break_caesar(ciphert_text, shift)\n",
    "        return f'''\n",
    "        Plain text: {plain_text}\n",
    "        Shift: {shift}\n",
    "        Cipher text: {ciphert_text}\n",
    "        Known-key\n",
    "        Known-key-result: {result_2}'''\n",
    "\n",
    "    elif mode == 'brute-force':\n",
    "        result_1 = break_caesar(ciphert_text)\n",
    "        return f'''\n",
    "        Plain text: {plain_text}\n",
    "        Shift: {shift}\n",
    "        Cipher text: {ciphert_text}\n",
    "        Brute Force\n",
    "        Result: {result_1}'''\n",
    "        \n",
    "    else:\n",
    "        print('Invalid mode')\n",
    "    "
   ]
  },
  {
   "cell_type": "code",
   "execution_count": null,
   "metadata": {},
   "outputs": [],
   "source": [
    "plain_text = 'PERO MIRA COMO BEBEN LOS PECES EN EL RIO'"
   ]
  },
  {
   "cell_type": "code",
   "execution_count": null,
   "metadata": {},
   "outputs": [],
   "source": [
    "%%timeit -n 5000\n",
    "caesar_encryption(plain_text, 'known_key')\n"
   ]
  },
  {
   "cell_type": "code",
   "execution_count": null,
   "metadata": {},
   "outputs": [],
   "source": [
    "%%timeit -n 5000\n",
    "caesar_encryption(plain_text, 'brute-force')\n"
   ]
  },
  {
   "cell_type": "markdown",
   "metadata": {},
   "source": [
    "## Cifrado monoalfabético"
   ]
  },
  {
   "cell_type": "markdown",
   "metadata": {},
   "source": [
    "### Generación de alfabeto aleatorio"
   ]
  },
  {
   "cell_type": "code",
   "execution_count": null,
   "metadata": {},
   "outputs": [],
   "source": [
    "def random_alphabet_table():\n",
    "    character_pool = ascii_letters + digits + '\\n\":;.,-+*/'\n",
    "    orig = list(character_pool)\n",
    "    shuffled = sample(orig, len(orig))\n",
    "    key = dict(zip(orig, shuffled))\n",
    "\n",
    "    return key\n"
   ]
  },
  {
   "cell_type": "markdown",
   "metadata": {},
   "source": [
    "### Encriptado"
   ]
  },
  {
   "cell_type": "code",
   "execution_count": null,
   "metadata": {},
   "outputs": [],
   "source": [
    "def encrypt_message(message: str, key: dict):\n",
    "    encrypted = []\n",
    "    for char in message:\n",
    "        if char in key:\n",
    "            encrypted += key[char]\n",
    "        else:\n",
    "            encrypted += char\n",
    "\n",
    "    return ''.join(encrypted)\n"
   ]
  },
  {
   "cell_type": "markdown",
   "metadata": {},
   "source": [
    "### Inverso Alfabeto"
   ]
  },
  {
   "cell_type": "code",
   "execution_count": null,
   "metadata": {},
   "outputs": [],
   "source": [
    "def inv_alphabet(key: dict):\n",
    "\n",
    "    return {v: k for k, v in key.items()}\n"
   ]
  },
  {
   "cell_type": "markdown",
   "metadata": {},
   "source": [
    "### A desencriptar"
   ]
  },
  {
   "cell_type": "code",
   "execution_count": null,
   "metadata": {},
   "outputs": [],
   "source": [
    "def decrypt_message(message: str, key: dict):\n",
    "\n",
    "    return encrypt_message(message, inv_alphabet(key))\n",
    "    "
   ]
  },
  {
   "cell_type": "markdown",
   "metadata": {},
   "source": [
    "### Prueba de monoencriptado"
   ]
  },
  {
   "cell_type": "code",
   "execution_count": null,
   "metadata": {},
   "outputs": [],
   "source": [
    "def mono_encryption():\n",
    "\n",
    "    file_path = '../../homeworks/ciphers/text2.txt'\n",
    "\n",
    "    with open(file_path, 'r') as f:\n",
    "        message = f.readlines()\n",
    "\n",
    "    message = ''.join(message)\n",
    "\n",
    "    # Encryption\n",
    "    cipher = random_alphabet_table()\n",
    "    encrypted = encrypt_message(message, cipher)\n",
    "    decrypted = decrypt_message(encrypted, cipher)\n",
    "\n",
    "    return decrypted\n"
   ]
  },
  {
   "cell_type": "code",
   "execution_count": null,
   "metadata": {},
   "outputs": [],
   "source": [
    "mono_encryption()\n"
   ]
  },
  {
   "cell_type": "code",
   "execution_count": 33,
   "metadata": {},
   "outputs": [],
   "source": [
    "def mono_frequency_analysis(cipher_text: str, language: str):\n",
    "    \n",
    "    frequencies = {'eng': 'ETAOINSHRDLCUMWFGYPBVKJXQZ', \n",
    "                    'spa': 'EAOSNRILDTUCMPBHQYVGFJZXKW', \n",
    "                    'fra': 'EASTIRNULODMCPVHGFBQJXZYKW'}\n",
    "\n",
    "    if language not in frequencies:\n",
    "        print('Invalid language')\n",
    "        return\n",
    "    \n",
    "    lang_frequencies = frequencies[language]\n",
    "\n",
    "\n",
    "mono_frequency_analysis('', 'eng')"
   ]
  },
  {
   "cell_type": "markdown",
   "metadata": {},
   "source": [
    "## Cifrado Vigenère"
   ]
  },
  {
   "cell_type": "code",
   "execution_count": null,
   "metadata": {},
   "outputs": [],
   "source": [
    "def transform_plain(plain_text: str, key_word: str) -> str:\n",
    "    \"\"\"Transform plain text with a keyword using a substitution\n",
    "\n",
    "    Args:\n",
    "        plain_text (str): Plain text to be transformed\n",
    "        key_word (str): Word to map plain text with\n",
    "\n",
    "    Returns:\n",
    "        str: Mapped text\n",
    "    \"\"\"    \n",
    "\n",
    "    key = list(key_word)\n",
    "\n",
    "    if len(plain_text) == len(key):\n",
    "        return key\n",
    "\n",
    "    else:\n",
    "        for i in range(len(plain_text) - len(key)):\n",
    "            key.append(key[i % len(key)])\n",
    "\n",
    "    mapped_text = ''.join(key)\n",
    "\n",
    "    return mapped_text\n"
   ]
  },
  {
   "cell_type": "code",
   "execution_count": null,
   "metadata": {},
   "outputs": [],
   "source": [
    "def encrypt_vigenere(plain_text: str, key: str) -> str:\n",
    "\n",
    "    alphabet = ascii_letters[len(ascii_letters) // 2:]\n",
    "    cipher_text = []\n",
    "    # Cannot use index based for loop, need to handle whitespaces\n",
    "    key_index = 0\n",
    "    key = key.upper()\n",
    "\n",
    "    for char in plain_text:\n",
    "        \n",
    "        id = alphabet.find(char.upper())\n",
    "\n",
    "        # Check if its not contained in the alphabet\n",
    "        if id != -1:\n",
    "            pass\n",
    "        else:\n",
    "            cipher_text.append(char)\n",
    "\n",
    "    return ''.join(cipher_text)\n"
   ]
  },
  {
   "cell_type": "code",
   "execution_count": null,
   "metadata": {},
   "outputs": [],
   "source": [
    "text = 'HOLAMUNDO'\n",
    "key = 'PERRO'\n",
    "key_word = transform_plain(text, key)\n",
    "cipher_text = encrypt_vigenere(text, key_word)\n",
    "print(f'''\n",
    "Text: {text}\n",
    "Key: {key}\n",
    "Key word: {key_word}\n",
    "Cipher text: {cipher_text}''')"
   ]
  },
  {
   "cell_type": "code",
   "execution_count": null,
   "metadata": {},
   "outputs": [],
   "source": [
    "def decrypt_vigenere(cipher_text: str, key_word: str) -> str:\n",
    "    plain_text = []\n",
    "    for i in range(len(plain_text)):\n",
    "        \n",
    "        if cipher_text[i].isalpha():\n",
    "            x = (ord(cipher_text[i]) - ord(key_word[i] % len(key_word))) % 26\n",
    "            x += ord('A')\n",
    "            plain_text.append(chr(x))\n",
    "            \n",
    "        else:\n",
    "            plain_text.append(cipher_text[i])\n",
    "        \n",
    "    return ''.join(plain_text)\n",
    "    "
   ]
  },
  {
   "cell_type": "code",
   "execution_count": null,
   "metadata": {},
   "outputs": [],
   "source": [
    "def vigenere_test():\n",
    "    text = 'HOLAMUNDO'\n",
    "    key = 'MONA'\n",
    "    key_word = keyword_generator(text, key)\n",
    "    encrypted = encrypt_vigenere(text, key_word)\n",
    "    decrypted = decrypt_vigenere(encrypted, key_word)\n",
    "\n",
    "    print(f'''Vigenere Cipher\n",
    "    Text: {text}\n",
    "    Key: {key_word}\n",
    "    Encrypted: {encrypted}\n",
    "    Decrypted: {decrypted}''')\n",
    "\n",
    "\n",
    "vigenere_test()\n"
   ]
  },
  {
   "cell_type": "code",
   "execution_count": null,
   "metadata": {},
   "outputs": [],
   "source": []
  }
 ],
 "metadata": {
  "interpreter": {
   "hash": "916dbcbb3f70747c44a77c7bcd40155683ae19c65e1c03b4aa3499c5328201f1"
  },
  "kernelspec": {
   "display_name": "Python 3.8.10 64-bit",
   "language": "python",
   "name": "python3"
  },
  "language_info": {
   "codemirror_mode": {
    "name": "ipython",
    "version": 3
   },
   "file_extension": ".py",
   "mimetype": "text/x-python",
   "name": "python",
   "nbconvert_exporter": "python",
   "pygments_lexer": "ipython3",
   "version": "3.8.10"
  },
  "orig_nbformat": 4
 },
 "nbformat": 4,
 "nbformat_minor": 2
}
