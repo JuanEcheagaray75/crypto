{
 "cells": [
  {
   "cell_type": "markdown",
   "metadata": {},
   "source": [
    "# Actividad 2.1. Cifrado César, sustitución monoalfabética y Vigenère\n",
    "\n",
    "- Juan Pablo Echeagaray González\n",
    "- A00830646\n",
    "- Análisis de Criptografía y Seguridad\n",
    "- Profesores:\n",
    "  - Dr. Alberto F. Martínez\n",
    "  - Dr.-Ing. Jonathan Montalvo-Urquizo\n",
    "- 24 de mayo del 2022"
   ]
  },
  {
   "cell_type": "markdown",
   "metadata": {},
   "source": [
    "## Dependencias"
   ]
  },
  {
   "cell_type": "code",
   "execution_count": null,
   "metadata": {},
   "outputs": [],
   "source": [
    "from string import ascii_letters, digits\n",
    "from random import sample\n"
   ]
  },
  {
   "cell_type": "markdown",
   "metadata": {},
   "source": [
    "## Cifrado César"
   ]
  },
  {
   "cell_type": "markdown",
   "metadata": {},
   "source": [
    "### Encriptado César"
   ]
  },
  {
   "cell_type": "code",
   "execution_count": null,
   "metadata": {},
   "outputs": [],
   "source": [
    "def encrypt_caesar(message: str, offset: int):\n",
    "\n",
    "    result = ''\n",
    "    for char in message:\n",
    "        # Check if its uppercase\n",
    "        if char.isupper():\n",
    "            result += chr((ord(char) + offset - 65) % 26 + 65)\n",
    "        else:\n",
    "            result += chr((ord(char) + offset - 97) % 26 + 97)\n",
    "\n",
    "    return result\n"
   ]
  },
  {
   "cell_type": "markdown",
   "metadata": {},
   "source": [
    "### Rompiendo cifrado César"
   ]
  },
  {
   "cell_type": "code",
   "execution_count": null,
   "metadata": {},
   "outputs": [],
   "source": [
    "def break_caesar(message: str, known_key: int = None):\n",
    "    alphabet = ascii_letters[len(ascii_letters) // 2:]\n",
    "    res = []\n",
    "\n",
    "    if known_key is None:\n",
    "        search_space = range(len(alphabet))\n",
    "    else:\n",
    "        search_space = [known_key]\n",
    "    \n",
    "    for key in search_space:\n",
    "        translated = ''\n",
    "        for char in message:\n",
    "            if char in alphabet:\n",
    "                num = alphabet.find(char)\n",
    "                num -= key\n",
    "                if num < 0:\n",
    "                    num += len(alphabet)\n",
    "                translated += alphabet[num]\n",
    "            else:\n",
    "                translated += char\n",
    "        \n",
    "        res.append([key, translated])\n",
    "        # Map list of lists to dict\n",
    "        out = dict(res)\n",
    "\n",
    "    return out\n"
   ]
  },
  {
   "cell_type": "markdown",
   "metadata": {},
   "source": [
    "### Probando cifrado y desencriptado César"
   ]
  },
  {
   "cell_type": "code",
   "execution_count": null,
   "metadata": {},
   "outputs": [],
   "source": [
    "def caesar_encryption():\n",
    "\n",
    "    plain_text = 'PERO MIRA COMO BEBEN LOS PECES EN EL RIO'\n",
    "\n",
    "    shift = 3\n",
    "    ciphert_text = encrypt_caesar(plain_text, shift)\n",
    "    result_1 = break_caesar(ciphert_text)\n",
    "    result_2 = break_caesar(ciphert_text, shift)\n",
    "\n",
    "    print(f'''\n",
    "    Plain text: {plain_text}\n",
    "    Shift: {shift}\n",
    "    Cipher text: {ciphert_text}\n",
    "    Fuerza bruta\n",
    "    Result 1: {result_1}\n",
    "    Conociendo el shift\n",
    "    Result 2: {result_2}''')\n",
    "\n",
    "\n",
    "caesar_encryption()\n"
   ]
  },
  {
   "cell_type": "markdown",
   "metadata": {},
   "source": [
    "## Cifrado monoalfabético"
   ]
  },
  {
   "cell_type": "markdown",
   "metadata": {},
   "source": [
    "### Generación de alfabeto aleatorio"
   ]
  },
  {
   "cell_type": "code",
   "execution_count": null,
   "metadata": {},
   "outputs": [],
   "source": [
    "def random_alphabet_table():\n",
    "    character_pool = ascii_letters + digits + '\\n\":;.,-+*/'\n",
    "    orig = list(character_pool)\n",
    "    shuffled = sample(orig, len(orig))\n",
    "    key = dict(zip(orig, shuffled))\n",
    "\n",
    "    return key\n"
   ]
  },
  {
   "cell_type": "markdown",
   "metadata": {},
   "source": [
    "### Desencriptación"
   ]
  },
  {
   "cell_type": "code",
   "execution_count": null,
   "metadata": {},
   "outputs": [],
   "source": [
    "def inv_alphabet(key: dict):\n",
    "\n",
    "    return {v: k for k, v in key.items()}\n"
   ]
  },
  {
   "cell_type": "markdown",
   "metadata": {},
   "source": [
    "### Encriptado"
   ]
  },
  {
   "cell_type": "code",
   "execution_count": null,
   "metadata": {},
   "outputs": [],
   "source": [
    "def encrypt_message(message: str, key: dict):\n",
    "    encrypted = []\n",
    "    for char in message:\n",
    "        if char in key:\n",
    "            encrypted += key[char]\n",
    "        else:\n",
    "            encrypted += char\n",
    "\n",
    "    return ''.join(encrypted)\n"
   ]
  },
  {
   "cell_type": "markdown",
   "metadata": {},
   "source": [
    "### A desencriptar"
   ]
  },
  {
   "cell_type": "code",
   "execution_count": null,
   "metadata": {},
   "outputs": [],
   "source": [
    "def decrypt_message(message: str, key: dict):\n",
    "\n",
    "    return encrypt_message(message, inv_alphabet(key))\n",
    "    "
   ]
  },
  {
   "cell_type": "markdown",
   "metadata": {},
   "source": [
    "### Prueba del encriptado"
   ]
  },
  {
   "cell_type": "code",
   "execution_count": null,
   "metadata": {},
   "outputs": [],
   "source": [
    "def mono_encryption():\n",
    "\n",
    "    file_path = '../../homeworks/ciphers/text1.txt'\n",
    "\n",
    "    with open(file_path, 'r') as f:\n",
    "        message = f.readlines()\n",
    "\n",
    "    message = ''.join(message)\n",
    "\n",
    "    # Encryption\n",
    "    cipher = random_alphabet_table()\n",
    "    encrypted = encrypt_message(message, cipher)\n",
    "    decrypted = decrypt_message(encrypted, cipher)\n",
    "\n",
    "    return decrypted\n"
   ]
  },
  {
   "cell_type": "code",
   "execution_count": null,
   "metadata": {},
   "outputs": [],
   "source": [
    "mono_encryption()\n"
   ]
  },
  {
   "cell_type": "markdown",
   "metadata": {},
   "source": [
    "## Cifrado Vigenère"
   ]
  },
  {
   "cell_type": "code",
   "execution_count": null,
   "metadata": {},
   "outputs": [],
   "source": [
    "def map_key(plain_text: str, key: str) -> str:\n",
    "    key = list(key)\n",
    "    if len(plain_text) == len(key):\n",
    "        return key\n",
    "    else:\n",
    "        for i in range(len(plain_text) - len(key)):\n",
    "            key.append(key[i % len(key)])\n",
    "\n",
    "    return ''.join(key)\n"
   ]
  },
  {
   "cell_type": "code",
   "execution_count": null,
   "metadata": {},
   "outputs": [],
   "source": [
    "def encrypt_vigenere(plain_text: str, maped_key: str) -> str:\n",
    "    cipher_text = []\n",
    "    for i in range(len(plain_text)):\n",
    "        x = (ord(plain_text[i]) + ord(maped_key[i])) % 26\n",
    "        x += ord('A')\n",
    "        cipher_text.append(chr(x))\n",
    "\n",
    "    return ''.join(cipher_text)\n"
   ]
  },
  {
   "cell_type": "code",
   "execution_count": null,
   "metadata": {},
   "outputs": [],
   "source": [
    "def decrypt_vigenere(cipher_text: str, maped_key: str) -> str:\n",
    "    plain_text = []\n",
    "    for i in range(len(plain_text)):\n",
    "        x = (ord(cipher_text[i]) - ord(maped_key[i])) % 26\n",
    "        x += ord('A')\n",
    "        plain_text.append(chr(x))\n",
    "    \n",
    "    return ''.join(plain_text)\n",
    "    "
   ]
  },
  {
   "cell_type": "code",
   "execution_count": null,
   "metadata": {},
   "outputs": [],
   "source": [
    "text = 'HOLAMUNDO'\n",
    "key_word = 'MONA'\n",
    "key = map_key(text, key_word)\n",
    "encrypted = encrypt_vignere(text, key)"
   ]
  },
  {
   "cell_type": "code",
   "execution_count": null,
   "metadata": {},
   "outputs": [],
   "source": []
  }
 ],
 "metadata": {
  "interpreter": {
   "hash": "916dbcbb3f70747c44a77c7bcd40155683ae19c65e1c03b4aa3499c5328201f1"
  },
  "kernelspec": {
   "display_name": "Python 3.8.10 64-bit",
   "language": "python",
   "name": "python3"
  },
  "language_info": {
   "codemirror_mode": {
    "name": "ipython",
    "version": 3
   },
   "file_extension": ".py",
   "mimetype": "text/x-python",
   "name": "python",
   "nbconvert_exporter": "python",
   "pygments_lexer": "ipython3",
   "version": "3.8.10"
  },
  "orig_nbformat": 4
 },
 "nbformat": 4,
 "nbformat_minor": 2
}
