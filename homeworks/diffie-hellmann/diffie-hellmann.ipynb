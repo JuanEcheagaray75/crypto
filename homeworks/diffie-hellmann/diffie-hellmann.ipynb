{
 "cells": [
  {
   "cell_type": "markdown",
   "metadata": {},
   "source": [
    "# Actividad 2.2. Diffie-Hellmann, DES y AES\n",
    "\n",
    "- Juan Pablo Echeagaray González\n",
    "- A00830646\n",
    "- Análisis de Criptografía y Seguridad\n",
    "- MA2002B.300\n",
    "- Profesores:\n",
    "  - Dr. Alberto F. Martínez\n",
    "  - Dr.-Ing. Jonathan Montalvo-Urquizo\n",
    "- 6 de junio del 2022"
   ]
  },
  {
   "cell_type": "markdown",
   "metadata": {},
   "source": [
    "## Diffie-Hellmann"
   ]
  },
  {
   "cell_type": "code",
   "execution_count": 1,
   "metadata": {},
   "outputs": [],
   "source": [
    "def diffie_hellmann(P: int, G: int, a: int, b: int):\n",
    "    \"\"\"\n",
    "    Original Author: J. Montalvo-Urquizo (2021-02-10)\n",
    "    Modified by: Juan Pablo Echeagaray González (2022-06-04)\n",
    "\n",
    "    Python: 3.8.10\n",
    "    \n",
    "    Diffie-Hellmann Implementation (In its simple form)\n",
    "\n",
    "    Args:\n",
    "        P (int): Prime number\n",
    "        G (int): Primitive root of P\n",
    "        a (int): Alice's secret key (an integer)\n",
    "        b (int): Bob's secret key (an integer)\n",
    "    \n",
    "    \"\"\"    \n",
    "    # Alice and Bob agree on sharing this numbers as public keys:\n",
    "\t# A prime number P and a primitive root G\n",
    "\n",
    "\t# A primitve root for P, G is taken\n",
    "    # Used https://www.wolframalpha.com/widgets/view.jsp?id=ef51422db7db201ebc03c8800f41ba99 para encontrar el primitve root\n",
    "\n",
    "    print(f'The Value of the selected prime P is: {P}')\n",
    "    print(f'The Value of the primitive root G is: {G}')\n",
    "\n",
    "\t# Alice chooses her private key as\n",
    "    print(f'The Private Key for Alice is: {a}')\n",
    "\n",
    "\t# Alice gets the generated key as G^a mod P\n",
    "    x = int(pow(G, a, P))\n",
    "\n",
    "    print(f'Alice computes her generated key and sends the result as {x}')\n",
    "\n",
    "\t# Bob chooses his private key as\n",
    "    print(f'The Private Key for Bob is: {b}')\n",
    "\n",
    "\t# Bob gets the generated key as G^b mod P\n",
    "    y = int(pow(G, b, P))\n",
    "    print(f'Bob computes his generated key and sends the result as {y}')\n",
    "\n",
    "\t# Bob shares his result with Alice, and Alice computes the Shared Secret Key\n",
    "    ka = int(pow(y, a, P))\n",
    "\n",
    "\t# Alice shares her result with Bob, and Bob computes the Shared Secret Key\n",
    "    kb = int(pow(x, b, P))\n",
    "\n",
    "    print(f'Secret key for Alice is: {ka}')\n",
    "    print(f'Secret Key for Bob is: {kb}')\n",
    "\n",
    "    if ka == kb:\n",
    "\t    print(f'As Bob and Alice are getting the same result {ka}, they can use this value as a Secret Shared Key to exchange information')\n",
    "    else:\n",
    "\t    print('something went wrong!, check your calculations')\n",
    "        "
   ]
  },
  {
   "cell_type": "markdown",
   "metadata": {},
   "source": [
    "### Ejercicio 1"
   ]
  },
  {
   "cell_type": "code",
   "execution_count": 3,
   "metadata": {},
   "outputs": [
    {
     "name": "stdout",
     "output_type": "stream",
     "text": [
      "Ejercicio 1\n",
      "The Value of the selected prime P is: 293\n",
      "The Value of the primitive root G is: 105\n",
      "The Private Key for Alice is: 23\n",
      "Alice computes her generated key and sends the result as 251\n",
      "The Private Key for Bob is: 7\n",
      "Bob computes his generated key and sends the result as 32\n",
      "Secret key for Alice is: 11\n",
      "Secret Key for Bob is: 11\n",
      "As Bob and Alice are getting the same result 11, they can use this value as a Secret Shared Key to exchange information\n"
     ]
    }
   ],
   "source": [
    "P = 293\n",
    "G = 105\n",
    "a = 23\n",
    "b = 7\n",
    "print('Ejercicio 1')\n",
    "diffie_hellmann(P, G, a, b)"
   ]
  },
  {
   "cell_type": "markdown",
   "metadata": {},
   "source": [
    "### Ejercicio 2"
   ]
  },
  {
   "cell_type": "markdown",
   "metadata": {},
   "source": [
    "#### Ejercicio 2.1"
   ]
  },
  {
   "cell_type": "code",
   "execution_count": 4,
   "metadata": {},
   "outputs": [
    {
     "name": "stdout",
     "output_type": "stream",
     "text": [
      "Ejercicio 2.1\n",
      "The Value of the selected prime P is: 661\n",
      "The Value of the primitive root G is: 35\n",
      "The Private Key for Alice is: 311\n",
      "Alice computes her generated key and sends the result as 260\n",
      "The Private Key for Bob is: 211\n",
      "Bob computes his generated key and sends the result as 530\n",
      "Secret key for Alice is: 307\n",
      "Secret Key for Bob is: 307\n",
      "As Bob and Alice are getting the same result 307, they can use this value as a Secret Shared Key to exchange information\n"
     ]
    }
   ],
   "source": [
    "print('Ejercicio 2.1')\n",
    "P = 661\n",
    "G = 35\n",
    "a = 311\n",
    "b = 211\n",
    "diffie_hellmann(P, G, a, b)"
   ]
  },
  {
   "cell_type": "markdown",
   "metadata": {},
   "source": [
    "#### Ejercicio 2.2"
   ]
  },
  {
   "cell_type": "code",
   "execution_count": 5,
   "metadata": {},
   "outputs": [
    {
     "name": "stdout",
     "output_type": "stream",
     "text": [
      "The Value of the selected prime P is: 569\n",
      "The Value of the primitive root G is: 547\n",
      "The Private Key for Alice is: 197\n",
      "Alice computes her generated key and sends the result as 147\n",
      "The Private Key for Bob is: 103\n",
      "Bob computes his generated key and sends the result as 356\n",
      "Secret key for Alice is: 24\n",
      "Secret Key for Bob is: 24\n",
      "As Bob and Alice are getting the same result 24, they can use this value as a Secret Shared Key to exchange information\n"
     ]
    }
   ],
   "source": [
    "print('Ejercicio 2.2')\n",
    "P = 569\n",
    "G = 547\n",
    "a = 197\n",
    "b = 103\n",
    "diffie_hellmann(P, G, a, b)"
   ]
  },
  {
   "cell_type": "markdown",
   "metadata": {},
   "source": [
    "#### Ejercicio 2.3"
   ]
  },
  {
   "cell_type": "code",
   "execution_count": 6,
   "metadata": {},
   "outputs": [
    {
     "name": "stdout",
     "output_type": "stream",
     "text": [
      "Ejercicio 2.3\n",
      "The Value of the selected prime P is: 857\n",
      "The Value of the primitive root G is: 113\n",
      "The Private Key for Alice is: 373\n",
      "Alice computes her generated key and sends the result as 561\n",
      "The Private Key for Bob is: 503\n",
      "Bob computes his generated key and sends the result as 159\n",
      "Secret key for Alice is: 342\n",
      "Secret Key for Bob is: 342\n",
      "As Bob and Alice are getting the same result 342, they can use this value as a Secret Shared Key to exchange information\n"
     ]
    }
   ],
   "source": [
    "print('Ejercicio 2.3')\n",
    "p = 857\n",
    "G = 113\n",
    "a = 373\n",
    "b = 503\n",
    "diffie_hellmann(p, G, a, b)"
   ]
  },
  {
   "cell_type": "markdown",
   "metadata": {},
   "source": [
    "## DES"
   ]
  },
  {
   "cell_type": "code",
   "execution_count": 14,
   "metadata": {},
   "outputs": [
    {
     "name": "stdout",
     "output_type": "stream",
     "text": [
      "\n",
      "\n",
      "Original Data: b'This is a small test for the DES Algorithm Implementation to be used at MA2002B'\n",
      "Alice's key is: b'MONTALVO'\n",
      "Alice's Encrypted Message: b\"\\xba\\x8eJX7\\\\\\x7f\\xf8\\x02`\\xddI\\x19O7\\xa9(\\xb5\\xa9\\x1b\\xfd*\\x17't{\\x86\\x0b~\\x08;ti\\x93\\x88\\xe2\\xa2\\xa3\\x06\\x82\\xf7\\xeb\\xcdg\\xf6\\x8a(\\xbc\\x05>g\\x1e\\xe7\\x02P\\xec\\xce\\xe0\\xb0\\x9e\\xf7\\n\\xa8`\\xb5\\x98\\xe2\\xb4\\xcd[SP,f\\xcc\\xa8M\\xaa\\x1b\\xf1\"\n",
      "\n",
      "Bob's key is: b'MONTALVO'\n",
      "Bob's decrypted message is: b'This is a small test for the DES Algorithm Implementation to be used at MA2002B'\n"
     ]
    }
   ],
   "source": [
    "def DES(message: str, key: str):\n",
    "    \"\"\"\n",
    "    Original Author: J. Montalvo-Urquizo (2021-02-10)\n",
    "    Modified by: Juan Pablo Echeagaray González (2022-06-04)\n",
    "\n",
    "    pyDes: 2.0.1\n",
    "    Python: 3.8.10\n",
    "    \n",
    "    DES Implementation\n",
    "\n",
    "    Args:\n",
    "        message (str): Message to be sent\n",
    "        key (str): Key used by the DES encryption\n",
    "\n",
    "    El flujo de la función es:\n",
    "    1. Se interpreta un mensaje en string normal a su formato bytes, se usa el codificado UTF-8\n",
    "    2. Se realiza el paso anterior con la llave proporcionada, esta debe de tener una longitud de 8 caracteres\n",
    "    3. Se crea un objeto de tipo pyDes.des, se le pasa la llave y se usa el modo de operación CBC, como IV usamos un vector de 0s\n",
    "    4. Se encripta el mensaje con el método .encrypt(), los parámetros necesarios se proporcionaron cuando se instanció el objeto pydes.des\n",
    "    5. Se imprime el mensaje encriptado\n",
    "    6. Se crea otro objeto pyDes.des con los mismos parámetros que el original\n",
    "    7. Se desencripta el mensaje aplicando el método .decrypt() al objeto creado en el paso anterior\n",
    "    8. Se imprime el mensaje desencriptado y se comprueba que sean iguales\n",
    "    \"\"\"\n",
    "    \n",
    "    import pyDes\n",
    "\n",
    "    # Punto 1\n",
    "    # Inicialización del mensaje\n",
    "    data = bytes(message, 'utf-8')\n",
    "    key = bytes(key, 'utf-8')\n",
    "    print(\"\\n\\nOriginal Data: %r\" % data)\n",
    "\n",
    "    # Punto 2\n",
    "    # Instancia del objeto pyDes.des en modo CBC con la llave proporcionada, un IV de 0s, y un padding de PKCS5    \n",
    "    kAlice = pyDes.des(key, pyDes.CBC, \"\\0\\0\\0\\0\\0\\0\\0\\0\", pad=None, padmode=pyDes.PAD_PKCS5)\n",
    "    print(\"Alice's key is: %r\" % kAlice.getKey())\n",
    "\n",
    "    # Punto 3\n",
    "    # Aplicación de DES para encriptar\n",
    "    dataTransfered = kAlice.encrypt(data)\n",
    "    print(\"Alice's Encrypted Message: %r\\n\" % dataTransfered)\n",
    "\n",
    "    # Punto 4\n",
    "    # Mismo proceso que en el punto 2, se simula otro usuario\n",
    "    kBob = pyDes.des(key, pyDes.CBC, \"\\0\\0\\0\\0\\0\\0\\0\\0\", pad=None, padmode=pyDes.PAD_PKCS5)\n",
    "    print(\"Bob's key is: %r\" % kBob.getKey())\n",
    "\n",
    "    # Punto 5\n",
    "    # Desencriptado con la llave del segundo usuario, arroja un error en caso de que el mensaje sea diferente al original\n",
    "    decrypted = kBob.decrypt(dataTransfered)\n",
    "    print(\"Bob's decrypted message is: %r\" % decrypted)\n",
    "\n",
    "    assert decrypted == data\n",
    "\n",
    "DES(\"This is a small test for the DES Algorithm Implementation to be used at MA2002B\", \"MONTALVO\")"
   ]
  },
  {
   "cell_type": "markdown",
   "metadata": {},
   "source": [
    "## AES"
   ]
  },
  {
   "cell_type": "code",
   "execution_count": 36,
   "metadata": {},
   "outputs": [
    {
     "name": "stdout",
     "output_type": "stream",
     "text": [
      "key: b'You look lonely '\n",
      "ciphertext: b'}\\xe2\\x878+s\\x13$\\xb5\\xed+#\\xb2\\xa9\\xda%\\xa0\\x88\\xb1\\x1e%f\\x9c:\\x82\\x9f\\xfe\\x1f\\xd71\\xe0Q\\xe0,\\x8a_\\xb9\\x81\\xd0\\x14\\x8f\\xc7\\x96O\\xd0\\xd6o\\x00\\xd6\\xdc\\x810u\\xd1M\\xfa-\\xa3}\\x8d\\xf9hdx\\xabd\\xc9F,\\xfd\\xdb*\\xc5\\x1fm,R\\x84\\xbc\\xaf\\xc5\\xce1\\xe9a\\x11\\x86!\\n!(bGj\\xa7v\\xd1\\x07\\xd5\\xa7\\x8e\\x00H\\xd1V\\x0c34$\\x7f\\xc1\\xa9\\x9e\\xa2\\xe4i\\x07\\xcb\\x8f\\x16\\x1fu\\xfa\"\\x0f%\\x94\\xa8)\\xf9\\xb1@\\x00\\x1c\\x19\\xa2\\x16\\xbb\\x136\\xe8\\x16\\x1c\\xf1\\xda\\xf7\\xec\\xce\\xd2,\\x14\\xe1\\xbe-atl\\x02\\xac\\xcd/S\\x0e\\xe1i\\xbbGA\\xb3\\xb8v\\xc4g*x\\xa8m\\xf0GfN\\x96\\xc1\\xfa(\\xfc<<\\xdf\\xd9\\x14D\\x86]8G\\x84V3\\x8e\\x1f!z{\\xf7\\xd9\\x97\\x06v~\\x1fNk\\xeb\\'\\x08\\xc5z\\x04\\xbb?Y\\x89\\xe2J\\x02>8B\\x15\\xa9\\xe7\\x1f\\xe5Y\\xad\\x17A\\xde\\x84\\xba\\xa5!Mp\\xd1\\xde\\xfe\\x9a\\xa6!\\xed\\\\g\\x93\\xe3\\x90\\x89d\\x16~\\xd4Y\\xae\\xc1Z5\\x9e\\xcbJ\\xf3\\x17_\\x0c\\x03\\x1fS\\xd1\\x82\\x92\\x8f<il\\xc6l\\xca\\xda&\\xab\\x0cu\\x1f\\x8d!0\\xa1\\xad\\xeb&%\\xc8\\x0f\\x07\\x1fX\\xb4\\x1dQ\\x05\\x01\\x9a6\\x81\\x86\\xe9\\xde\\xdb\\x10\\xff\\xa4\\xd4PW\"\\xb1\\x17X?\\xb7\\x82\\xc0\\n\\xe2\\xdcZrQ\\x08/S\\xfc\\xe9\\x07\\xaf\\xfe\\xe2\\xd94\\xf8\\xcd\\xcf7\\xd5\\x02b\\x1d\\xa5|\\xff\\xdf\\xa4_\\n\\x9c|'\n"
     ]
    }
   ],
   "source": [
    "def AES_encryption(message: str, key: str):\n",
    "\n",
    "    data = message.encode('ascii')\n",
    "    key = key.encode('ascii')\n",
    "    \n",
    "    from Cryptodome.Cipher import AES\n",
    "\n",
    "    print(f'key: {str(key)}')\n",
    "    cipher = AES.new(key, AES.MODE_EAX)\n",
    "    ciphertext, tag = cipher.encrypt_and_digest(data)\n",
    "    print(f'ciphertext: {str(ciphertext)}')\n",
    "\n",
    "    file_out = open(\"encrypted.bin\", \"wb\")\n",
    "    [file_out.write(x) for x in (cipher.nonce, tag, ciphertext)]\n",
    "    file_out.close()\n",
    "\n",
    "with open('message.txt', 'r') as file:\n",
    "    this_message = file.read()\n",
    "\n",
    "this_key = 'You look lonely '\n",
    "\n",
    "AES_encryption(this_message, this_key)"
   ]
  },
  {
   "cell_type": "code",
   "execution_count": 37,
   "metadata": {},
   "outputs": [
    {
     "name": "stdout",
     "output_type": "stream",
     "text": [
      "key:\n",
      "b'You look lonely '\n",
      "b\"The issue is that when you call str(), python uses the default character encoding to try and encode the bytes you gave it, which in your case are sometimes representations of unicode characters. To fix the problem, you have to tell python how to deal with the string you give it by using .encode('whatever_unicode'). Most of the time, you should be fine using utf-8.\"\n"
     ]
    }
   ],
   "source": [
    "def AES_decryption(key: str):\n",
    "    from Cryptodome.Cipher import AES\n",
    "\n",
    "    key = bytes(key, 'ascii')\n",
    "    file_in = open(\"encrypted.bin\", \"rb\")\n",
    "    nonce, tag, ciphertext = [file_in.read(x) for x in (16, 16, -1)]\n",
    "\n",
    "    print('key:\\n' + str(key))\n",
    "    cipher = AES.new(key, AES.MODE_EAX, nonce)\n",
    "    data = cipher.decrypt_and_verify(ciphertext, tag)\n",
    "    print(data)\n",
    "\n",
    "this_key = 'You look lonely '\n",
    "AES_decryption(this_key)"
   ]
  }
 ],
 "metadata": {
  "interpreter": {
   "hash": "31f2aee4e71d21fbe5cf8b01ff0e069b9275f58929596ceb00d14d90e3e16cd6"
  },
  "kernelspec": {
   "display_name": "Python 3.8.10 64-bit",
   "language": "python",
   "name": "python3"
  },
  "language_info": {
   "codemirror_mode": {
    "name": "ipython",
    "version": 3
   },
   "file_extension": ".py",
   "mimetype": "text/x-python",
   "name": "python",
   "nbconvert_exporter": "python",
   "pygments_lexer": "ipython3",
   "version": "3.8.10"
  },
  "orig_nbformat": 4
 },
 "nbformat": 4,
 "nbformat_minor": 2
}
